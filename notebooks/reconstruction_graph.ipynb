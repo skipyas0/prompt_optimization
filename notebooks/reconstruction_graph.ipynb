{
 "cells": [
  {
   "cell_type": "code",
   "execution_count": null,
   "metadata": {},
   "outputs": [],
   "source": [
    "from transformers import BertModel, BertTokenizer\n",
    "import torch\n",
    "from sklearn.metrics.pairwise import cosine_similarity\n",
    "\n",
    "# Load pre-trained BERT model and tokenizer\n",
    "model_name = 'bert-base-uncased'\n",
    "tokenizer = BertTokenizer.from_pretrained(model_name)\n",
    "model = BertModel.from_pretrained(model_name)\n",
    "\n",
    "def get_bert_embedding(text):\n",
    "    # Tokenize and encode the text\n",
    "    inputs = tokenizer(text, return_tensors='pt', padding=True, truncation=True)\n",
    "    \n",
    "    # Get the hidden states (embeddings) from BERT\n",
    "    with torch.no_grad():\n",
    "        outputs = model(**inputs)\n",
    "    \n",
    "    # Extract the last hidden state of the [CLS] token (which represents the sentence embedding)\n",
    "    cls_embedding = outputs.last_hidden_state[:, 0, :].squeeze().numpy()\n",
    "    \n",
    "    return cls_embedding\n",
    "\n",
    "def bert_cosine_similarity(text1, text2):\n",
    "    # Get the embeddings for both texts\n",
    "    embedding1 = get_bert_embedding(text1)\n",
    "    embedding2 = get_bert_embedding(text2)\n",
    "    \n",
    "    # Compute cosine similarity\n",
    "    similarity = cosine_similarity([embedding1], [embedding2])[0][0]\n",
    "    \n",
    "    return similarity\n",
    "\n",
    "def avg_similarity(texts):\n",
    "    pairwise_sims = []\n",
    "    for i, t1 in enumerate(texts):\n",
    "        for t2 in texts[i:]:\n",
    "            pairwise_sims.append(\n",
    "                bert_cosine_similarity(t1, t2)\n",
    "            )\n",
    "    return sum(pairwise_sims) / len(pairwise_sims)"
   ]
  },
  {
   "cell_type": "code",
   "execution_count": 2,
   "metadata": {},
   "outputs": [],
   "source": [
    "import json\n",
    "data = []\n",
    "with open(\"logs/results/9127831.ndjson\", \"r\") as f:\n",
    "    for line in f:\n",
    "        data.append(json.loads(line))\n",
    "\n"
   ]
  },
  {
   "cell_type": "code",
   "execution_count": 9,
   "metadata": {},
   "outputs": [],
   "source": [
    "prompts = list(filter(lambda p: p[\"type\"] == \"prompt\", data))\n"
   ]
  },
  {
   "cell_type": "code",
   "execution_count": 10,
   "metadata": {},
   "outputs": [],
   "source": [
    "scorings = list(filter(lambda p: p[\"type\"] == \"score\", data))"
   ]
  },
  {
   "cell_type": "code",
   "execution_count": 12,
   "metadata": {},
   "outputs": [],
   "source": [
    "usages = list(filter(lambda p: p[\"type\"] == \"usage\", data))"
   ]
  },
  {
   "cell_type": "code",
   "execution_count": 11,
   "metadata": {},
   "outputs": [
    {
     "data": {
      "text/plain": [
       "120"
      ]
     },
     "execution_count": 11,
     "metadata": {},
     "output_type": "execute_result"
    }
   ],
   "source": [
    "len(prompts)"
   ]
  },
  {
   "cell_type": "code",
   "execution_count": 13,
   "metadata": {},
   "outputs": [
    {
     "data": {
      "text/plain": [
       "{1, 2, 3, 4, 5, 6}"
      ]
     },
     "execution_count": 13,
     "metadata": {},
     "output_type": "execute_result"
    }
   ],
   "source": [
    "gens = set()\n",
    "for p in prompts:\n",
    "    gens.add(p[\"generation\"])\n",
    "gens"
   ]
  },
  {
   "cell_type": "code",
   "execution_count": 6,
   "metadata": {},
   "outputs": [],
   "source": [
    "args = data[0]\n",
    "pop = args[\"initial_population_size\"]\n",
    "steps = args[\"max_iters\"]"
   ]
  },
  {
   "cell_type": "code",
   "execution_count": 7,
   "metadata": {},
   "outputs": [
    {
     "name": "stdout",
     "output_type": "stream",
     "text": [
      "(pop=12)*(steps=10)=120\n"
     ]
    }
   ],
   "source": [
    "print(f\"({pop=})*({steps=})={pop*steps}\")"
   ]
  },
  {
   "cell_type": "code",
   "execution_count": 14,
   "metadata": {},
   "outputs": [],
   "source": [
    "by_gen = []\n",
    "for g in sorted(list(gens)):\n",
    "    by_gen.append(list(filter(\n",
    "        lambda p: p[\"generation\"] == g, prompts\n",
    "    )))"
   ]
  },
  {
   "cell_type": "code",
   "execution_count": 18,
   "metadata": {},
   "outputs": [
    {
     "data": {
      "text/plain": [
       "[21, 27, 31, 20, 18, 3]"
      ]
     },
     "execution_count": 18,
     "metadata": {},
     "output_type": "execute_result"
    }
   ],
   "source": [
    "[len(g) for g in by_gen]"
   ]
  },
  {
   "cell_type": "code",
   "execution_count": 20,
   "metadata": {},
   "outputs": [
    {
     "data": {
      "text/plain": [
       "[0.6130952380952381,\n",
       " 0.7222222222222222,\n",
       " 0.7580645161290323,\n",
       " 0.8,\n",
       " 0.875,\n",
       " 0.7916666666666666]"
      ]
     },
     "execution_count": 20,
     "metadata": {},
     "output_type": "execute_result"
    }
   ],
   "source": [
    "avgs_by_gen = []\n",
    "for g in by_gen:\n",
    "    scores = [p[\"avg_fitness\"] for p in g]\n",
    "    avgs_by_gen.append(sum(scores)/len(scores))\n",
    "avgs_by_gen"
   ]
  },
  {
   "cell_type": "code",
   "execution_count": 23,
   "metadata": {},
   "outputs": [],
   "source": [
    "avg_similarity_by_gen = []\n",
    "for g in by_gen:\n",
    "    promps_in_gen = [p[\"traits\"] for p in g]\n",
    "    avg_similarity_by_gen.append(avg_similarity(promps_in_gen))"
   ]
  },
  {
   "cell_type": "code",
   "execution_count": 24,
   "metadata": {},
   "outputs": [
    {
     "data": {
      "text/plain": [
       "[0.901394966876868,\n",
       " 0.890976014749083,\n",
       " 0.8778709718777288,\n",
       " 0.8909011196522486,\n",
       " 0.9343709032437955,\n",
       " 0.9125626881917318]"
      ]
     },
     "execution_count": 24,
     "metadata": {},
     "output_type": "execute_result"
    }
   ],
   "source": [
    "avg_similarity_by_gen"
   ]
  }
 ],
 "metadata": {
  "kernelspec": {
   "display_name": "Python 3 (ipykernel)",
   "language": "python",
   "name": "python3"
  }
 },
 "nbformat": 4,
 "nbformat_minor": 2
}
