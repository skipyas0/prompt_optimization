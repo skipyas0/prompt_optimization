{
 "cells": [
  {
   "cell_type": "code",
   "execution_count": 5,
   "metadata": {},
   "outputs": [
    {
     "data": {
      "application/vnd.jupyter.widget-view+json": {
       "model_id": "d76a502468a84c0b9bdc5004a30b3ceb",
       "version_major": 2,
       "version_minor": 0
      },
      "text/plain": [
       "Resolving data files:   0%|          | 0/39 [00:00<?, ?it/s]"
      ]
     },
     "metadata": {},
     "output_type": "display_data"
    },
    {
     "data": {
      "application/vnd.jupyter.widget-view+json": {
       "model_id": "930bbe1f306b46668bf9877cbb52301a",
       "version_major": 2,
       "version_minor": 0
      },
      "text/plain": [
       "Loading dataset shards:   0%|          | 0/24 [00:00<?, ?it/s]"
      ]
     },
     "metadata": {},
     "output_type": "display_data"
    }
   ],
   "source": [
    "import datasets\n",
    "ds = datasets.load_dataset('deepmind/code_contests', split='train')"
   ]
  },
  {
   "cell_type": "code",
   "execution_count": 7,
   "metadata": {},
   "outputs": [
    {
     "data": {
      "application/vnd.jupyter.widget-view+json": {
       "model_id": "039906ca1c7f4e3f96ea99ccfe07c72a",
       "version_major": 2,
       "version_minor": 0
      },
      "text/plain": [
       "Filter:   0%|          | 0/100 [00:00<?, ? examples/s]"
      ]
     },
     "metadata": {},
     "output_type": "display_data"
    },
    {
     "data": {
      "application/vnd.jupyter.widget-view+json": {
       "model_id": "9e59848a70734a85bb6a82b55470eb31",
       "version_major": 2,
       "version_minor": 0
      },
      "text/plain": [
       "Map:   0%|          | 0/10 [00:00<?, ? examples/s]"
      ]
     },
     "metadata": {},
     "output_type": "display_data"
    }
   ],
   "source": [
    "def map_code_contests(example):\n",
    "    example['question'] = example['description']# + '\\nExample input/output pair:\\nInput:' + str(example['public_tests']['input']) + '\\nOutput:' + str(example['public_tests']['output'])\n",
    "    #first_python = example['solutions']['language'].index(3)\n",
    "    #example['solution'] = example['solutions']['solution'][first_python]\n",
    "    example['test_inputs'] = [x.strip().split('\\n') for x in example['private_tests']['input']]\n",
    "    example['test_outputs'] = [x.strip() for x in example['private_tests']['output']]\n",
    "    example['max_time'] = float(example['time_limit']['seconds'])\n",
    "    return {'question': example['question'], 'test_inputs': example['test_inputs'], 'test_outputs': example['test_outputs'], 'max_time': example['time_limit']}\n",
    "ds = ds.select(range(100))\n",
    "ds = ds.filter(lambda ex: ex['difficulty']  == 7 and '<image>' not in ex['description']) # filter easy samples \n",
    "ds = ds.map(map_code_contests, remove_columns=ds.column_names)\n",
    "        "
   ]
  },
  {
   "cell_type": "code",
   "execution_count": 9,
   "metadata": {},
   "outputs": [
    {
     "data": {
      "text/plain": [
       "['question', 'test_inputs', 'test_outputs', 'max_time']"
      ]
     },
     "execution_count": 9,
     "metadata": {},
     "output_type": "execute_result"
    }
   ],
   "source": [
    "list(ds[0].keys())"
   ]
  },
  {
   "cell_type": "code",
   "execution_count": 79,
   "metadata": {},
   "outputs": [
    {
     "name": "stdout",
     "output_type": "stream",
     "text": [
      "case number 0 has 100.0 % correct tests\n",
      "case number 1 has 100.0 % correct tests\n",
      "case number 2 has 63.63636363636363 % correct tests\n",
      "case number 3 has 100.0 % correct tests\n",
      "case number 4 has 100.0 % correct tests\n",
      "case number 5 has 100.0 % correct tests\n",
      "case number 6 has 100.0 % correct tests\n",
      "case number 7 has 100.0 % correct tests\n",
      "case number 8 has 0.0 % correct tests\n",
      "case number 9 has 100.0 % correct tests\n",
      "case number 10 has 100.0 % correct tests\n",
      "case number 11 has 100.0 % correct tests\n"
     ]
    },
    {
     "ename": "KeyboardInterrupt",
     "evalue": "Interrupted by user",
     "output_type": "error",
     "traceback": [
      "\u001b[0;31m---------------------------------------------------------------------------\u001b[0m",
      "\u001b[0;31mKeyboardInterrupt\u001b[0m                         Traceback (most recent call last)",
      "Cell \u001b[0;32mIn[79], line 40\u001b[0m\n\u001b[1;32m     37\u001b[0m     \u001b[38;5;28;01mreturn\u001b[39;00m \u001b[38;5;28msum\u001b[39m(res) \u001b[38;5;241m/\u001b[39m \u001b[38;5;28mlen\u001b[39m(res)\n\u001b[1;32m     39\u001b[0m \u001b[38;5;28;01mfor\u001b[39;00m i,c \u001b[38;5;129;01min\u001b[39;00m \u001b[38;5;28menumerate\u001b[39m(modified_dataset):\n\u001b[0;32m---> 40\u001b[0m     \u001b[38;5;28mprint\u001b[39m(\u001b[38;5;124mf\u001b[39m\u001b[38;5;124m\"\u001b[39m\u001b[38;5;124mcase number \u001b[39m\u001b[38;5;132;01m{\u001b[39;00mi\u001b[38;5;132;01m}\u001b[39;00m\u001b[38;5;124m has \u001b[39m\u001b[38;5;132;01m{\u001b[39;00m\u001b[43mtest_solution\u001b[49m\u001b[43m(\u001b[49m\u001b[43mc\u001b[49m\u001b[43m)\u001b[49m\u001b[38;5;241m*\u001b[39m\u001b[38;5;241m100\u001b[39m\u001b[38;5;132;01m}\u001b[39;00m\u001b[38;5;124m % correct tests\u001b[39m\u001b[38;5;124m\"\u001b[39m)\n",
      "Cell \u001b[0;32mIn[79], line 22\u001b[0m, in \u001b[0;36mtest_solution\u001b[0;34m(test_case)\u001b[0m\n\u001b[1;32m     19\u001b[0m     local_vars \u001b[38;5;241m=\u001b[39m {\u001b[38;5;124m\"\u001b[39m\u001b[38;5;124minput\u001b[39m\u001b[38;5;124m\"\u001b[39m: \u001b[38;5;28;01mlambda\u001b[39;00m: \u001b[38;5;28mnext\u001b[39m(inp)}\n\u001b[1;32m     21\u001b[0m     \u001b[38;5;66;03m# Execute the solution in this environment\u001b[39;00m\n\u001b[0;32m---> 22\u001b[0m     exec(solution, {}, local_vars)\n\u001b[1;32m     23\u001b[0m \u001b[38;5;28;01mfinally\u001b[39;00m:\n\u001b[1;32m     24\u001b[0m     \u001b[38;5;66;03m# Restore the original stdout\u001b[39;00m\n\u001b[1;32m     25\u001b[0m     sys\u001b[38;5;241m.\u001b[39mstdout \u001b[38;5;241m=\u001b[39m original_stdout\n",
      "File \u001b[0;32m<string>:18\u001b[0m\n",
      "File \u001b[0;32m<string>:10\u001b[0m, in \u001b[0;36mmain\u001b[0;34m()\u001b[0m\n",
      "File \u001b[0;32m~/devel/venv/base/lib/python3.11/site-packages/ipykernel/kernelbase.py:1282\u001b[0m, in \u001b[0;36mKernel.raw_input\u001b[0;34m(self, prompt)\u001b[0m\n\u001b[1;32m   1280\u001b[0m     msg \u001b[38;5;241m=\u001b[39m \u001b[38;5;124m\"\u001b[39m\u001b[38;5;124mraw_input was called, but this frontend does not support input requests.\u001b[39m\u001b[38;5;124m\"\u001b[39m\n\u001b[1;32m   1281\u001b[0m     \u001b[38;5;28;01mraise\u001b[39;00m StdinNotImplementedError(msg)\n\u001b[0;32m-> 1282\u001b[0m \u001b[38;5;28;01mreturn\u001b[39;00m \u001b[38;5;28;43mself\u001b[39;49m\u001b[38;5;241;43m.\u001b[39;49m\u001b[43m_input_request\u001b[49m\u001b[43m(\u001b[49m\n\u001b[1;32m   1283\u001b[0m \u001b[43m    \u001b[49m\u001b[38;5;28;43mstr\u001b[39;49m\u001b[43m(\u001b[49m\u001b[43mprompt\u001b[49m\u001b[43m)\u001b[49m\u001b[43m,\u001b[49m\n\u001b[1;32m   1284\u001b[0m \u001b[43m    \u001b[49m\u001b[38;5;28;43mself\u001b[39;49m\u001b[38;5;241;43m.\u001b[39;49m\u001b[43m_parent_ident\u001b[49m\u001b[43m[\u001b[49m\u001b[38;5;124;43m\"\u001b[39;49m\u001b[38;5;124;43mshell\u001b[39;49m\u001b[38;5;124;43m\"\u001b[39;49m\u001b[43m]\u001b[49m\u001b[43m,\u001b[49m\n\u001b[1;32m   1285\u001b[0m \u001b[43m    \u001b[49m\u001b[38;5;28;43mself\u001b[39;49m\u001b[38;5;241;43m.\u001b[39;49m\u001b[43mget_parent\u001b[49m\u001b[43m(\u001b[49m\u001b[38;5;124;43m\"\u001b[39;49m\u001b[38;5;124;43mshell\u001b[39;49m\u001b[38;5;124;43m\"\u001b[39;49m\u001b[43m)\u001b[49m\u001b[43m,\u001b[49m\n\u001b[1;32m   1286\u001b[0m \u001b[43m    \u001b[49m\u001b[43mpassword\u001b[49m\u001b[38;5;241;43m=\u001b[39;49m\u001b[38;5;28;43;01mFalse\u001b[39;49;00m\u001b[43m,\u001b[49m\n\u001b[1;32m   1287\u001b[0m \u001b[43m\u001b[49m\u001b[43m)\u001b[49m\n",
      "File \u001b[0;32m~/devel/venv/base/lib/python3.11/site-packages/ipykernel/kernelbase.py:1325\u001b[0m, in \u001b[0;36mKernel._input_request\u001b[0;34m(self, prompt, ident, parent, password)\u001b[0m\n\u001b[1;32m   1322\u001b[0m \u001b[38;5;28;01mexcept\u001b[39;00m \u001b[38;5;167;01mKeyboardInterrupt\u001b[39;00m:\n\u001b[1;32m   1323\u001b[0m     \u001b[38;5;66;03m# re-raise KeyboardInterrupt, to truncate traceback\u001b[39;00m\n\u001b[1;32m   1324\u001b[0m     msg \u001b[38;5;241m=\u001b[39m \u001b[38;5;124m\"\u001b[39m\u001b[38;5;124mInterrupted by user\u001b[39m\u001b[38;5;124m\"\u001b[39m\n\u001b[0;32m-> 1325\u001b[0m     \u001b[38;5;28;01mraise\u001b[39;00m \u001b[38;5;167;01mKeyboardInterrupt\u001b[39;00m(msg) \u001b[38;5;28;01mfrom\u001b[39;00m \u001b[38;5;28;01mNone\u001b[39;00m\n\u001b[1;32m   1326\u001b[0m \u001b[38;5;28;01mexcept\u001b[39;00m \u001b[38;5;167;01mException\u001b[39;00m:\n\u001b[1;32m   1327\u001b[0m     \u001b[38;5;28mself\u001b[39m\u001b[38;5;241m.\u001b[39mlog\u001b[38;5;241m.\u001b[39mwarning(\u001b[38;5;124m\"\u001b[39m\u001b[38;5;124mInvalid Message:\u001b[39m\u001b[38;5;124m\"\u001b[39m, exc_info\u001b[38;5;241m=\u001b[39m\u001b[38;5;28;01mTrue\u001b[39;00m)\n",
      "\u001b[0;31mKeyboardInterrupt\u001b[0m: Interrupted by user"
     ]
    }
   ],
   "source": [
    "import io\n",
    "import sys\n",
    "\n",
    "def test_solution(test_case):\n",
    "    test_input = test_case['test_inputs']\n",
    "    test_output = test_case['test_outputs']\n",
    "    # Define the solution code as a string\n",
    "    solution = test_case['solution']\n",
    "    res = []\n",
    "    for i in range(len(test_input)):\n",
    "        # Redirect stdout to capture print statements in the solution code\n",
    "        output_capture = io.StringIO()\n",
    "        original_stdout = sys.stdout\n",
    "        sys.stdout = output_capture\n",
    "        inp = iter(test_input[i])\n",
    "        # Execute the solution code with a custom input function\n",
    "        try:\n",
    "            # Set up a local environment with a mock input function\n",
    "            local_vars = {\"input\": lambda: next(inp)}\n",
    "\n",
    "            # Execute the solution in this environment\n",
    "            exec(solution, {}, local_vars)\n",
    "        finally:\n",
    "            # Restore the original stdout\n",
    "            sys.stdout = original_stdout\n",
    "\n",
    "        # Retrieve the captured output\n",
    "        captured_output = output_capture.getvalue().strip()\n",
    "\n",
    "        # Compare the captured output to the expected output\n",
    "        if captured_output == test_output[i]:\n",
    "            res.append(1)\n",
    "        else:\n",
    "            #print(test_case['solution'], end='------------------\\n')\n",
    "\n",
    "            res.append(0)\n",
    "    return sum(res) / len(res)\n",
    "\n",
    "for i,c in enumerate(modified_dataset):\n",
    "    print(f\"case number {i} has {test_solution(c)*100} % correct tests\")"
   ]
  },
  {
   "cell_type": "code",
   "execution_count": 81,
   "metadata": {},
   "outputs": [
    {
     "name": "stdout",
     "output_type": "stream",
     "text": [
      "question: Let's call a string a phone number if it has length 11 and fits the pattern \"8xxxxxxxxxx\", where each \"x\" is replaced by a digit.\n",
      "\n",
      "For example, \"80123456789\" and \"80000000000\" are phone numbers, while \"8012345678\" and \"79000000000\" are not.\n",
      "\n",
      "You have n cards with digits, and you want to use them to make as many phone numbers as possible. Each card must be used in at most one phone number, and you don't have to use all cards. The phone numbers do not necessarily have to be distinct.\n",
      "\n",
      "Input\n",
      "\n",
      "The first line contains an integer n — the number of cards with digits that you have (1 ≤ n ≤ 100).\n",
      "\n",
      "The second line contains a string of n digits (characters \"0\", \"1\", ..., \"9\") s_1, s_2, …, s_n. The string will not contain any other characters, such as leading or trailing spaces.\n",
      "\n",
      "Output\n",
      "\n",
      "If at least one phone number can be made from these cards, output the maximum number of phone numbers that can be made. Otherwise, output 0.\n",
      "\n",
      "Examples\n",
      "\n",
      "Input\n",
      "\n",
      "11\n",
      "00000000008\n",
      "\n",
      "\n",
      "Output\n",
      "\n",
      "1\n",
      "\n",
      "\n",
      "Input\n",
      "\n",
      "22\n",
      "0011223344556677889988\n",
      "\n",
      "\n",
      "Output\n",
      "\n",
      "2\n",
      "\n",
      "\n",
      "Input\n",
      "\n",
      "11\n",
      "31415926535\n",
      "\n",
      "\n",
      "Output\n",
      "\n",
      "0\n",
      "\n",
      "Note\n",
      "\n",
      "In the first example, one phone number, \"8000000000\", can be made from these cards.\n",
      "\n",
      "In the second example, you can make two phone numbers from the cards, for example, \"80123456789\" and \"80123456789\".\n",
      "\n",
      "In the third example you can't make any phone number from the given cards.\n",
      "solution: n = int(input())\n",
      "s = input()\n",
      "k = s.count(\"8\")\n",
      "l = n - k\n",
      "if k <= l//10: print(k)\n",
      "else:\n",
      "    while k > l//10:\n",
      "        k -= 1\n",
      "        l += 1\n",
      "    print(min(k, l//10))\n",
      "\n",
      "test_inputs: [['51', '882889888888689888850888388887688788888888888858888'], ['55', '7271714707719515303911625619272900050990324951111943573'], ['72', '888488888888823288848804883838888888887888888888228888218488897809784868'], ['65', '44542121362830719677175203560438858260878894083124543850593761845'], ['54', '438283821340622774637957966575424773837418828888614203'], ['100', '1976473621569903172721407763737179639055561746310369779167351419713916160700096173622427077757986026'], ['100', '2833898888858387469888804083887280788584887487186899808436848018181838884988432785338497585788803883'], ['42', '885887846290886288816884858898812858495482'], ['75', '878909759892888846183608689257806813376950958863798487856148633095072259838'], ['11', '55814018693'], ['31', '0868889888343881888987888838808'], ['21', '888888888888000000000'], ['62', '18888883884288488882387888486858887882838885288886472818688888'], ['77', '11111111111111111111111111111111111111111111111111111111111111111111111111111'], ['30', '888888888888888888888888888888'], ['64', '8885984815868480968883818886281846682409262501034555933863969284'], ['44', '15920309219313427633220119270900111650391207'], ['97', '4088468966684435599488804806521288358953088399738904557539253573051442198885776802972628197705081'], ['100', '8800000000000000000000000000000000000000000000000000000000000000000000000000000000000000000000000000'], ['50', '88888888888888888888888888888888888888888888888888'], ['20', '88888888888888888888'], ['32', '88888888888888888888888888888888'], ['82', '8889809888888888485881851986857288588888888881988888868888836888887858888888888878'], ['91', '8828880888888884883888488888888888888881888888888884888888848588888808888888888888888880888'], ['87', '311753415808202195240425076966761033489788093280714672959929008324554784724650182457298'], ['85', '6888887655188885918863889822590788834182048952565514598298586848861396753319582883848'], ['100', '8088888818885808888888848829886788884187188858898888888788988688884828586988888888288078638898728181'], ['21', '888111111111111111111'], ['1', '8'], ['93', '888088898748888038885888818882806848806887888888882087481868888888177809288888889648468888188'], ['77', '11233392925013001334679215120076714945221576003953746107506364475115045309091'], ['40', '8888888888888888888888888888888888888888'], ['33', '888800000000000000000000000000000'], ['21', '881234567900123456790'], ['98', '87247250157776241281197787785951754485531639139778166755966603305697265958800376912432893847612736'], ['90', '888888888888888888888888888888888888888888888888888888888888888888888888888888888888888888'], ['22', '4215079217017196952791'], ['99', '509170332523502565755650047942914747120102240396245453406790272793996913905060450414255616791704320'], ['96', '812087553199958040928832802441581868680188987878748641868838838835609806814288472573117388803351'], ['1', '0'], ['100', '8888888888828188888888888888888808888888888888888888891888888768888888888288888885886888838888888888'], ['11', '80000000000'], ['86', '84065885114540280210185082984888812185222886689129308815942798404861082196041321701260'], ['92', '86888880558884738878888381088888888895888881888888888368878888888884888768881888888888808888'], ['76', '7900795570936733366353829649382870728119825830883973668601071678041634916557'], ['32', '88000000000000000000000000000000'], ['70', '8888888888888888888888888888888888888888888888888888888888888888888888'], ['11', '88888888888'], ['21', '888000000000000000000'], ['66', '747099435917145962031075767196746707764157706291155762576312312094'], ['22', '8899999999999999999999'], ['11', '81234567123'], ['41', '78888884888874788841882882888088888588888'], ['10', '8888888888'], ['100', '2867878187889776883889958480848802884888888878218089281860321588888888987288888884288488988628618888'], ['66', '157941266854773786962397310504192100434183957442977444078457168272'], ['44', '30153452341853403190257244993442815171970194'], ['63', '728385948188688801288285888788852829888898565895847689806684688'], ['100', '1835563855281170226095294644116563180561156535623048783710060508361834822227075869575873675232708159'], ['21', '888888555555555555555'], ['100', '8881888389882878867888888888888888888886388888888870888884878888089888883898887888808688888487888888'], ['53', '85838985300863473289888099788588319484149888886832906'], ['60', '888888888888888888888888888888888888888888888888888888888888'], ['100', '8820286285185244938452488887088871457098945874486988698468788381417332842888928188688887641132194956'], ['11', '24572366390'], ['84', '181288888282608548858058871581888853888486785801381108858832882809848798828837386086'], ['32', '88257478884887437239023185588797'], ['99', '097167815527663544905782574817314139311067328533970663873718450545467450059059869618211361469505108'], ['43', '7404899846883344886153727489084158470112581'], ['100', '0000000000000000000000000000000000000000000000000000000000000000000000000000000000000000000000000008'], ['8', '12345678'], ['88', '2694079127792970410465292300936220976260790323517221561516591792566791677970332966660472'], ['21', '582586788289484878588'], ['33', '270375004567749549929235905225024'], ['50', '88000000000000000000000000000000000000000000000000'], ['33', '429980628264468835720540136177288'], ['27', '888000000000000000000000000'], ['10', '8000000000'], ['74', '70988894874867688968816582886488688881063425288316858438189808828755218508'], ['22', '6188156585823394680191'], ['81', '808888883488887888888808888888888888188888888388888888888888868688888488888882888'], ['57', '888888888888888888888888888888888888888888888888888888888'], ['100', '6451941807833681891890004306065158148809856572066617888008875119881621810329816763604830895480467878'], ['83', '88584458884288808888588388818938838468960248387898182887888867888888888886088895788'], ['11', '81234567090'], ['21', '880000000000000000000'], ['94', '8188948828818938226378510887848897889883818858778688882933888883888898198978868888808082461388'], ['52', '8878588869084488848898838898788838337877898817818888'], ['61', '8880888836888988888988888887388888888888868898887888818888888'], ['71', '88888888888888888888888188888805848888788088888883888883187888838888888'], ['95', '29488352815808808845913584782288724288898869488882098428839370889284838688458247785878848884289'], ['73', '2185806538483837898808836883483888818818988881880688028788888081888907898'], ['80', '88888888888888888888888888888888888888888888888888888888888888888888888888888888'], ['55', '3982037603326093160114589190899881252765957832414122484'], ['100', '8888888888888888888888888888888888888888888888888888888888888888888888888888888888888888888888888888']]\n",
      "test_outputs: ['4', '0', '6', '5', '4', '1', '9', '3', '6', '1', '2', '1', '5', '0', '2', '5', '0', '8', '2', '4', '1', '2', '7', '8', '7', '7', '9', '1', '0', '8', '0', '3', '3', '1', '8', '8', '0', '0', '8', '0', '9', '1', '7', '8', '6', '2', '6', '1', '1', '0', '2', '1', '3', '0', '9', '5', '2', '5', '9', '1', '9', '4', '5', '9', '0', '7', '2', '9', '3', '1', '0', '0', '1', '0', '2', '3', '2', '0', '6', '2', '7', '5', '9', '7', '1', '1', '8', '4', '5', '6', '8', '6', '7', '5', '9']\n"
     ]
    }
   ],
   "source": [
    "print('\\n'.join([f\"{k}: {v}\" for k,v in modified_dataset[0].items()]))"
   ]
  }
 ],
 "metadata": {
  "kernelspec": {
   "display_name": "Python 3 (ipykernel)",
   "language": "python",
   "name": "python3"
  },
  "language_info": {
   "codemirror_mode": {
    "name": "ipython",
    "version": 3
   },
   "file_extension": ".py",
   "mimetype": "text/x-python",
   "name": "python",
   "nbconvert_exporter": "python",
   "pygments_lexer": "ipython3",
   "version": "3.11.5"
  }
 },
 "nbformat": 4,
 "nbformat_minor": 2
}
