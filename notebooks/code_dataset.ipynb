{
 "cells": [
  {
   "cell_type": "code",
   "execution_count": 8,
   "metadata": {},
   "outputs": [
    {
     "data": {
      "application/vnd.jupyter.widget-view+json": {
       "model_id": "3c1a5e5be7e24ac089e1647df6fef2d3",
       "version_major": 2,
       "version_minor": 0
      },
      "text/plain": [
       "Resolving data files:   0%|          | 0/39 [00:00<?, ?it/s]"
      ]
     },
     "metadata": {},
     "output_type": "display_data"
    },
    {
     "data": {
      "application/vnd.jupyter.widget-view+json": {
       "model_id": "59874edae78d412b90f27830cb88413c",
       "version_major": 2,
       "version_minor": 0
      },
      "text/plain": [
       "Loading dataset shards:   0%|          | 0/24 [00:00<?, ?it/s]"
      ]
     },
     "metadata": {},
     "output_type": "display_data"
    }
   ],
   "source": [
    "import datasets\n",
    "ds = datasets.load_dataset('deepmind/code_contests', split='train')"
   ]
  },
  {
   "cell_type": "code",
   "execution_count": 9,
   "metadata": {},
   "outputs": [],
   "source": [
    "def map_code_contests(example):\n",
    "    question = example['description']\n",
    "    test_inputs = [x.strip().split('\\n') for x in example['private_tests']['input']]\n",
    "    test_outputs = [x.strip() for x in example['private_tests']['output']]\n",
    "    max_time = float(example['time_limit']['seconds'])\n",
    "    \n",
    "    return {\n",
    "        'question': question,\n",
    "        'test_inputs': test_inputs,\n",
    "        'test_outputs': test_outputs,\n",
    "        'max_time': max_time\n",
    "    }\n",
    "ds = ds.select(range(100))\n",
    "ds = ds.filter(lambda ex: ex['difficulty']  == 7 and '<image>' not in ex['description']) # filter easy samples \n",
    "ds = ds.map(map_code_contests, remove_columns=ds.column_names)\n",
    "        "
   ]
  },
  {
   "cell_type": "code",
   "execution_count": 10,
   "metadata": {},
   "outputs": [
    {
     "data": {
      "text/plain": [
       "['question', 'test_inputs', 'test_outputs', 'max_time']"
      ]
     },
     "execution_count": 10,
     "metadata": {},
     "output_type": "execute_result"
    }
   ],
   "source": [
    "list(ds[0].keys())"
   ]
  },
  {
   "cell_type": "code",
   "execution_count": null,
   "metadata": {},
   "outputs": [],
   "source": [
    "import io\n",
    "import sys\n",
    "\n",
    "def test_solution(test_case):\n",
    "    test_input = test_case['test_inputs']\n",
    "    test_output = test_case['test_outputs']\n",
    "    # Define the solution code as a string\n",
    "    solution = test_case['solution']\n",
    "    res = []\n",
    "    for i in range(len(test_input)):\n",
    "        # Redirect stdout to capture print statements in the solution code\n",
    "        output_capture = io.StringIO()\n",
    "        original_stdout = sys.stdout\n",
    "        sys.stdout = output_capture\n",
    "        inp = iter(test_input[i])\n",
    "        # Execute the solution code with a custom input function\n",
    "        try:\n",
    "            # Set up a local environment with a mock input function\n",
    "            local_vars = {\"input\": lambda: next(inp)}\n",
    "\n",
    "            # Execute the solution in this environment\n",
    "            exec(solution, {}, local_vars)\n",
    "        finally:\n",
    "            # Restore the original stdout\n",
    "            sys.stdout = original_stdout\n",
    "\n",
    "        # Retrieve the captured output\n",
    "        captured_output = output_capture.getvalue().strip()\n",
    "\n",
    "        # Compare the captured output to the expected output\n",
    "        if captured_output == test_output[i]:\n",
    "            res.append(1)\n",
    "        else:\n",
    "            #print(test_case['solution'], end='------------------\\n')\n",
    "\n",
    "            res.append(0)\n",
    "    return sum(res) / len(res)\n",
    "\n",
    "for i,c in enumerate(modified_dataset):\n",
    "    print(f\"case number {i} has {test_solution(c)*100} % correct tests\")"
   ]
  },
  {
   "cell_type": "code",
   "execution_count": null,
   "metadata": {},
   "outputs": [],
   "source": [
    "print('\\n'.join([f\"{k}: {v}\" for k,v in modified_dataset[0].items()]))"
   ]
  }
 ],
 "metadata": {
  "kernelspec": {
   "display_name": "Python 3 (ipykernel)",
   "language": "python",
   "name": "python3"
  },
  "language_info": {
   "codemirror_mode": {
    "name": "ipython",
    "version": 3
   },
   "file_extension": ".py",
   "mimetype": "text/x-python",
   "name": "python",
   "nbconvert_exporter": "python",
   "pygments_lexer": "ipython3",
   "version": "3.11.5"
  }
 },
 "nbformat": 4,
 "nbformat_minor": 2
}
