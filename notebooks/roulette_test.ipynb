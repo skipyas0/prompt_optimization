{
 "cells": [
  {
   "cell_type": "code",
   "execution_count": 36,
   "metadata": {},
   "outputs": [],
   "source": [
    "from prompt import Prompt, PromptParams\n",
    "import random\n",
    "pp = PromptParams(None, None, None, None)\n",
    "prompts = []\n",
    "pop_size=100000\n",
    "for _ in range(pop_size):\n",
    "    new = Prompt([None], pp)\n",
    "    new.fitness = random.random()\n",
    "    new.fitness = 0 if new.fitness < 0.05 else new.fitness\n",
    "    prompts.append(new) "
   ]
  },
  {
   "cell_type": "code",
   "execution_count": 37,
   "metadata": {},
   "outputs": [
    {
     "name": "stdout",
     "output_type": "stream",
     "text": [
      "exp_rank_selection\n",
      "50000 ps with mean 0.59, median 0.65 \n",
      "-----------------\n",
      "rank_selection\n",
      "50000 ps with mean 0.75, median 0.75 \n",
      "-----------------\n",
      "roulette_selection\n",
      "50000 ps with mean 0.67, median 0.71 \n",
      "-----------------\n",
      "tournament_selection\n",
      "50000 ps with mean 0.75, median 0.79 \n",
      "-----------------\n"
     ]
    }
   ],
   "source": [
    "import selection_mechanisms as sm\n",
    "from statistics import mean, median\n",
    "from evolutionary import EvoParams\n",
    "evo_params = EvoParams(initial_population_size=pop_size, mating_pool_size=pop_size//2, tournament_group_size=3)\n",
    "#print(*[f\"{p.fitness:0.2f}\" for p in prompts])\n",
    "for f in [sm.exp_rank_selection, sm.rank_selection, sm.roulette_selection, sm.tournament_selection]:\n",
    "    new_pop = f(prompts, evo_params)\n",
    "    fns = sorted([p.fitness for p in new_pop])\n",
    "    print(f.__name__)\n",
    "    print(f\"{len(new_pop)} ps with mean {mean(fns):0.2f}, median {median(fns):0.2f} \")\n",
    "    #print(\" \".join([f\"{f:0.2f}\" for f in fns]))\n",
    "    print(\"-----------------\")"
   ]
  }
 ],
 "metadata": {
  "kernelspec": {
   "display_name": "Python 3 (ipykernel)",
   "language": "python",
   "name": "python3"
  },
  "language_info": {
   "codemirror_mode": {
    "name": "ipython",
    "version": 3
   },
   "file_extension": ".py",
   "mimetype": "text/x-python",
   "name": "python",
   "nbconvert_exporter": "python",
   "pygments_lexer": "ipython3",
   "version": "3.11.5"
  }
 },
 "nbformat": 4,
 "nbformat_minor": 2
}
