{
 "cells": [
  {
   "cell_type": "code",
   "execution_count": 23,
   "metadata": {},
   "outputs": [],
   "source": [
    "import datasets\n",
    "ds_names = [\"instruction_following\", \"language\", \"reasoning\", \"data_analysis\"]\n",
    "dss = {s: datasets.load_dataset(f\"livebench/{s}\", split=\"test\") for s in ds_names}"
   ]
  },
  {
   "cell_type": "code",
   "execution_count": 24,
   "metadata": {},
   "outputs": [
    {
     "data": {
      "text/plain": [
       "['tablereformat', 'tablejoin', 'cta']"
      ]
     },
     "execution_count": 24,
     "metadata": {},
     "output_type": "execute_result"
    }
   ],
   "source": [
    "dss[\"data_analysis\"].unique(\"task\")"
   ]
  },
  {
   "cell_type": "code",
   "execution_count": null,
   "metadata": {},
   "outputs": [],
   "source": [
    "for dsn in ds_names:\n",
    "    for task in dss[dsn].unique(\"task\"):\n",
    "        a = dss[dsn].filter(lambda x: x[\"task\"] == task)[0]\n",
    "        print(f'{dsn}/{task}, {len(a[\"turns\"])} turns:\\n','\\n'.join(a[\"turns\"]))"
   ]
  },
  {
   "cell_type": "code",
   "execution_count": 31,
   "metadata": {},
   "outputs": [
    {
     "data": {
      "application/vnd.jupyter.widget-view+json": {
       "model_id": "bfead6b95ab34273be9fa4ab08263380",
       "version_major": 2,
       "version_minor": 0
      },
      "text/plain": [
       "Filter:   0%|          | 0/140 [00:00<?, ? examples/s]"
      ]
     },
     "metadata": {},
     "output_type": "display_data"
    }
   ],
   "source": [
    "typos =  dss[\"language\"].filter(lambda x: x[\"task\"] == \"typos\")"
   ]
  },
  {
   "cell_type": "code",
   "execution_count": null,
   "metadata": {},
   "outputs": [
    {
     "name": "stdout",
     "output_type": "stream",
     "text": [
      "10 % 0.8212560386473431 0.9473684210526315 0.3326386271436455\n",
      "20 % 0.8212560386473431 0.9423076923076923 0.3507063252551615\n",
      "30 % 0.8212560386473431 0.9230769230769231 0.4253204231553473\n",
      "40 % 0.8212560386473431 0.888888888888889 0.5827982902503565\n",
      "50 % 0.8212560386473431 0.8942307692307693 0.5559902958221464\n",
      "60 % 0.8212560386473431 0.888888888888889 0.5827982902503565\n",
      "70 % 0.8212560386473431 0.8695652173913043 0.6869529818847964\n",
      "80 % 0.8212560386473431 0.8405797101449276 0.8653629147160599\n",
      "90 % 0.8212560386473431 0.8252427184466018 0.9711556500388491\n",
      "100 % 0.8212560386473431 0.8212560386473431 1.0\n"
     ]
    }
   ],
   "source": [
    "for i in range(1, 11):\n",
    "    q=typos[0][\"turns\"][0].split('\\n')[-1]\n",
    "    a=typos[0][\"ground_truth\"]\n",
    "    m = round(len(q) * i / 10)\n",
    "    q1 = q[:m] + a[m:]\n",
    "\n",
    "    from Levenshtein import ratio            \n",
    "    from rouge_score import rouge_scorer\n",
    "    scorer = rouge_scorer.RougeScorer(['rougeL'], use_stemmer=True)\n",
    "\n",
    "    base = \n",
    "    after = scorer.score(q1,a)[\"rougeL\"].fmeasure\n",
    "    print(i*10,\"%\",base, after,(3-2*scorer.score(q1,a)[\"rougeL\"].fmeasure/scorer.score(q,a)[\"rougeL\"].fmeasure)**3)\n"
   ]
  },
  {
   "cell_type": "code",
   "execution_count": null,
   "metadata": {},
   "outputs": [],
   "source": []
  }
 ],
 "metadata": {
  "kernelspec": {
   "display_name": "Python 3 (ipykernel)",
   "language": "python",
   "name": "python3"
  },
  "language_info": {
   "codemirror_mode": {
    "name": "ipython",
    "version": 3
   },
   "file_extension": ".py",
   "mimetype": "text/x-python",
   "name": "python",
   "nbconvert_exporter": "python",
   "pygments_lexer": "ipython3",
   "version": "3.11.5"
  }
 },
 "nbformat": 4,
 "nbformat_minor": 2
}
