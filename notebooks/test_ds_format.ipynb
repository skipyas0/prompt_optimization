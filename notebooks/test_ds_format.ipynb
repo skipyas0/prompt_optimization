{
 "cells": [
  {
   "cell_type": "code",
   "execution_count": 12,
   "metadata": {},
   "outputs": [],
   "source": [
    "from utils import load_splits\n",
    "_, a,_, _ = load_splits(\"maveriq/bigbenchhard/snarks\", (100,1,1))\n",
    "_, b,_, _ = load_splits(\"maveriq/bigbenchhard/snarks\", (100,1,1))"
   ]
  },
  {
   "cell_type": "code",
   "execution_count": 13,
   "metadata": {},
   "outputs": [
    {
     "data": {
      "text/plain": [
       "\"Which statement is sarcastic?\\nOptions:\\n(A) We've not spoken since graduating high school 7 years ago, she's basically my bestie\\n(B) We've consistently spoken since graduating high school 7 years ago, she's basically my bestie\""
      ]
     },
     "execution_count": 13,
     "metadata": {},
     "output_type": "execute_result"
    }
   ],
   "source": [
    "a[55]['question']"
   ]
  },
  {
   "cell_type": "code",
   "execution_count": 14,
   "metadata": {},
   "outputs": [
    {
     "data": {
      "text/plain": [
       "\"Which statement is sarcastic?\\nOptions:\\n(A) We've not spoken since graduating high school 7 years ago, she's basically my bestie\\n(B) We've consistently spoken since graduating high school 7 years ago, she's basically my bestie\""
      ]
     },
     "execution_count": 14,
     "metadata": {},
     "output_type": "execute_result"
    }
   ],
   "source": [
    "b[55]['question']"
   ]
  }
 ],
 "metadata": {
  "kernelspec": {
   "display_name": "Python 3 (ipykernel)",
   "language": "python",
   "name": "python3"
  },
  "language_info": {
   "codemirror_mode": {
    "name": "ipython",
    "version": 3
   },
   "file_extension": ".py",
   "mimetype": "text/x-python",
   "name": "python",
   "nbconvert_exporter": "python",
   "pygments_lexer": "ipython3",
   "version": "3.11.5"
  }
 },
 "nbformat": 4,
 "nbformat_minor": 2
}
